{
 "cells": [
  {
   "cell_type": "markdown",
   "id": "corrected-seven",
   "metadata": {},
   "source": [
    "#  PHYSICAL MODELS OF LIVING SYSTEMS\n",
    "\n",
    "\n",
    "## Homework - week 11 & 12\n",
    "\n",
    "\n",
    "Author: Nguyen Xuan Tung\n",
    "\n",
    "Id: 2005491\n",
    "    "
   ]
  },
  {
   "cell_type": "markdown",
   "id": "printable-scale",
   "metadata": {},
   "source": [
    "----------------------------------------------------------------------------------------------------------------------"
   ]
  },
  {
   "cell_type": "markdown",
   "id": "global-vegetation",
   "metadata": {},
   "source": [
    "Simulate option 1 or 2\n",
    "\n",
    "1. Choose one of the examples on feedback loop (can be either negative positive) and simulate it. Try to combine two feedback loop (or simulating the genetic network shown in class or creating one yourself), simulate it and describe in few sentences the results of the simulations (like “what’s going on” in the simulation).\n",
    "\n",
    "2. Simulate the stochastic dynamics of the two stage model."
   ]
  },
  {
   "cell_type": "markdown",
   "id": "historical-beads",
   "metadata": {},
   "source": [
    "----------------------------------------------------------------------------------------------------------------------"
   ]
  },
  {
   "cell_type": "markdown",
   "id": "macro-russell",
   "metadata": {},
   "source": [
    "Run the given code"
   ]
  },
  {
   "cell_type": "code",
   "execution_count": 21,
   "id": "weighted-glenn",
   "metadata": {},
   "outputs": [],
   "source": [
    "import numpy as np\n",
    "import matplotlib.pyplot as plt"
   ]
  },
  {
   "cell_type": "code",
   "execution_count": 30,
   "id": "revolutionary-magnitude",
   "metadata": {},
   "outputs": [
    {
     "data": {
      "image/png": "[encoded data removed]",
      "text/plain": [
       "<Figure size 432x288 with 1 Axes>"
      ]
     },
     "metadata": {
      "needs_background": "light"
     },
     "output_type": "display_data"
    }
   ],
   "source": [
    "TMAX = 1.e5\n",
    "\n",
    "k1 = 0.01\n",
    "k2 = 1.\n",
    "\n",
    "def evolve_gillespie(A, t):\n",
    "\t# reaction 1: A -> 0\n",
    "\ta1 = k1*A\n",
    "\t# reaction 2: 0 -> A\n",
    "\ta2 = k2\n",
    "\t\n",
    "\t# total rate\n",
    "\ta0 = a1+a2\n",
    "\t\n",
    "\t# choose dt for the next reaction\n",
    "\tdt = np.random.exponential(1./a0)\n",
    "\tt = t+dt\n",
    "\t\n",
    "\t# choose which reaction is next:\n",
    "\tif(np.random.rand() < a1/a0): # reaction 1\n",
    "\t\tA = A-1\n",
    "\telse:\t# reaction 2\n",
    "\t\tA = A+1\n",
    "\t\n",
    "\treturn [A, t]\n",
    "\n",
    "# timeseries\n",
    "ts_A = []\n",
    "ts_t = []\n",
    "\n",
    "# initial state\t\n",
    "A = 0\n",
    "t = 0.\n",
    "\n",
    "while t<TMAX:\n",
    "\tts_A.append(A)\n",
    "\tts_t.append(t)\n",
    "\t\n",
    "\t[A, t] = evolve_gillespie(A, t)\n",
    "\n",
    "# list of time steps\n",
    "ts_dt = np.array(ts_t[1:])-np.array(ts_t[:-1]) # note that this list has 1 element less (we don't know for how long the last state stays)\n",
    "\n",
    "# histogram\n",
    "points = len(ts_A)\n",
    "plt.hist(ts_A[points//2:-1], weights=ts_dt[points//2:], bins=20, label=\"histogram\")\n",
    "plt.show()"
   ]
  },
  {
   "cell_type": "markdown",
   "id": "sweet-discrimination",
   "metadata": {},
   "source": [
    "----------------------------------------------------------------------------------------------------------------------"
   ]
  },
  {
   "cell_type": "markdown",
   "id": "acute-fabric",
   "metadata": {},
   "source": [
    "## 2. Simulate the stochastic dynamics of the two stage model"
   ]
  },
  {
   "cell_type": "markdown",
   "id": "insured-habitat",
   "metadata": {},
   "source": [
    "### Genetic Toggle Switch Model\n",
    "\n",
    "$G_1, G_2$: 2 genes \n",
    "\n",
    "$P_1, P_2$: 2 types of protein\n",
    "\n",
    "- $G_1$ produces $P_1$, $G_2$ produces $P_2$\n",
    "- Each gene represses the other gene's expression / protein production\n",
    "> *Each protein can bind particular DNA sites upstream of the gene which codes for the other protein, thereby repressing its transcription.*\n"
   ]
  },
  {
   "cell_type": "markdown",
   "id": "horizontal-cookie",
   "metadata": {},
   "source": [
    "### Stochastic model\n",
    "\n",
    "$X_1(t), X_2(t)$: number of proteins of type 1 & type 2 at time $t$\n",
    "##### 4 reactions with propensities\n",
    "\n",
    "\\begin{align}\n",
    "\\text{production } P_1 \\quad &\\mathcal{R}_1: \\emptyset \\to P_1 &\\alpha_1(\\mathbf{x}) &= \\frac{a_1}{1 + (x_2/K_2)^{n_1}} \\\\\n",
    "\\text{degradation } P_1 \\quad &\\mathcal{R}_2: P_1 \\to \\emptyset &\\alpha_2(\\mathbf{x}) &= \\gamma_1 x_1 \\\\\n",
    "\\text{production } P_2 \\quad &\\mathcal{R}_3: \\emptyset \\to P_2 &\\alpha_3(\\mathbf{x}) &= \\frac{a_2}{1 + (x_1/K_1)^{n_2}} \\\\\n",
    "\\text{degradation } P_2 \\quad &\\mathcal{R}_4: P_2 \\to \\emptyset &\\alpha_4(\\mathbf{x}) &= \\gamma_2 x_2 \\\\\n",
    "\\end{align}\n",
    "\n",
    "\n",
    "##### Representation & Parameters\n",
    "$\\mathbf{x} = (x_1, x_2)^T$ \n",
    "\n",
    "$x_1, x_2$: number of proteins of type $P_1$ & $P_2$\n",
    "\n",
    "**State-change vectors:** \n",
    "\n",
    "$\\vec{\\nu_1} = (1, 0)^T$ \n",
    "$\\vec{\\nu_2} = (-1, 0)^T$ \n",
    "$\\vec{\\nu_3} = (0, 1)^T$ \n",
    "$\\vec{\\nu_4} = (0, -1)^T$\n",
    "\n",
    "**Parameter values** \n",
    "\n",
    "$a_1 = 155, a_2 = 30, n_1 = 3, n_2 = 1, K_1 = K_2 = 1, \\gamma_1 = \\gamma_2 = 1$\n"
   ]
  },
  {
   "cell_type": "markdown",
   "id": "smaller-punishment",
   "metadata": {},
   "source": [
    "### Events & times \n",
    "\n",
    "- Keep track of events & times in arrays\n",
    "- Initialize values for $t_0$, $X_1(t_0)$, $X_2(t_0)$\n",
    "\n",
    "\n",
    "Each time an event happens,\n",
    "- update time array: append the updated timepoint of the new event into the time array, t\n",
    "- update protein number arrays: append the updated values for both of the protein variable arrays, P1 & P2"
   ]
  },
  {
   "cell_type": "code",
   "execution_count": 23,
   "id": "disabled-australian",
   "metadata": {},
   "outputs": [],
   "source": [
    "import numpy as np\n",
    "import matplotlib\n",
    "import matplotlib.pyplot as plt\n",
    "import random"
   ]
  },
  {
   "cell_type": "code",
   "execution_count": 24,
   "id": "comprehensive-collector",
   "metadata": {},
   "outputs": [],
   "source": [
    "#Initialize time t = t_0, initial state choose time horizon\n",
    "t = [0]\n",
    "P1 = [155]\n",
    "P2 = [30]\n",
    "\n",
    "t_end = 1000 # end time of simulation"
   ]
  },
  {
   "cell_type": "code",
   "execution_count": 25,
   "id": "objective-encoding",
   "metadata": {},
   "outputs": [],
   "source": [
    "# Protein production - set parameters\n",
    "a_1 = 15\n",
    "K_1 = 1\n",
    "n_1 = 3\n",
    "\n",
    "a_2 = 30\n",
    "K_2 = 1\n",
    "n_2 = 3"
   ]
  },
  {
   "cell_type": "code",
   "execution_count": 26,
   "id": "saved-modeling",
   "metadata": {},
   "outputs": [],
   "source": [
    "# Protein degradation\n",
    "gamma_1 = 1\n",
    "gamma_2 = 1"
   ]
  },
  {
   "cell_type": "code",
   "execution_count": 27,
   "id": "treated-designation",
   "metadata": {},
   "outputs": [],
   "source": [
    "while t[-1] < t_end:\n",
    "    current_P1 = P1[-1]\n",
    "    current_P2 = P2[-1]\n",
    "    \n",
    "    # STEP 2: Calculate alpha_k(x) for all k & their sum lambda(x)\n",
    "    rates = [a_1 / (1 + (current_P2 / K_2)**n_1), \\\n",
    "             gamma_1 * current_P1, \\\n",
    "             a_2 / (1 + (current_P1 / K_1)**n_2), \\\n",
    "             gamma_2 * current_P2]\n",
    "\n",
    "    rate_sum = sum(rates)\n",
    "\n",
    "    # STEP 3: Generate & set tau & k*\n",
    "    tau = np.random.exponential(scale=1/rate_sum) # scale represents the mean of the distribution\n",
    "    t.append(t[-1] + tau)\n",
    "    \n",
    "    rand = random.uniform(0,1)\n",
    "\n",
    "    # STEP 4: execute next reaction by replacing \n",
    "    \n",
    "    # P1 production event\n",
    "    if rand * rate_sum <= rates[0]:\n",
    "            P1.append(P1[-1] + 1)\n",
    "            P2.append(P2[-1])\n",
    "\n",
    "    # P1 degradation event\n",
    "    elif rand * rate_sum > rates[0] and rand * rate_sum <= sum(rates[:2]):\n",
    "            P1.append(P1[-1] - 1)\n",
    "            P2.append(P2[-1])\n",
    "\n",
    "    # P2 production event\n",
    "    elif rand * rate_sum > sum(rates[:2]) and rand * rate_sum <= sum(rates[:3]):\n",
    "            P1.append(P1[-1])\n",
    "            P2.append(P2[-1] + 1)\n",
    "\n",
    "    # P2 degradation event\n",
    "    elif rand * rate_sum > sum(rates[:3]) and rand * rate_sum <= sum(rates[:4]):\n",
    "            P1.append(P1[-1])\n",
    "            P2.append(P2[-1] - 1)"
   ]
  },
  {
   "cell_type": "code",
   "execution_count": 28,
   "id": "potential-meditation",
   "metadata": {},
   "outputs": [
    {
     "data": {
      "image/png": "[encoded data removed]",
      "text/plain": [
       "<Figure size 432x288 with 1 Axes>"
      ]
     },
     "metadata": {
      "needs_background": "light"
     },
     "output_type": "display_data"
    }
   ],
   "source": [
    "plt.plot(t , P1, color=\"m\",label=\"protein1\")\n",
    "plt.plot(t , P2, color=\"k\",label=\"protein2\")\n",
    "plt.ylabel('number of proteins')\n",
    "plt.xlabel('time')\n",
    "plt.legend()\n",
    "plt.show()"
   ]
  },
  {
   "cell_type": "code",
   "execution_count": 29,
   "id": "durable-belief",
   "metadata": {},
   "outputs": [
    {
     "data": {
      "image/png": "[encoded data removed]",
      "text/plain": [
       "<Figure size 432x288 with 2 Axes>"
      ]
     },
     "metadata": {
      "needs_background": "light"
     },
     "output_type": "display_data"
    }
   ],
   "source": [
    "f, (ax1, ax2) = plt.subplots(2, sharex=True, sharey=False)\n",
    "line1, = ax1.plot(t , P1, color=\"m\",label=\"protein1\")\n",
    "line2, = ax2.plot(t , P2, color=\"k\",label=\"protein2\")\n",
    "ax1.set_ylabel('number of proteins')\n",
    "ax1.set_xlabel('time')\n",
    "ax2.set_ylabel('number of proteins')\n",
    "ax2.set_xlabel('time')\n",
    "ax1.legend(handles=[line1,line2])\n",
    "ax2.legend(handles=[line1,line2])\n",
    "plt.show()"
   ]
  },
  {
   "cell_type": "markdown",
   "id": "artistic-panama",
   "metadata": {},
   "source": [
    "From the above two figures, we can see that the rate of protein rapidly decrease in the first milisecond, and after that it keeps fluctuating in a fixed range. "
   ]
  },
  {
   "cell_type": "code",
   "execution_count": null,
   "id": "existing-recruitment",
   "metadata": {},
   "outputs": [],
   "source": []
  },
  {
   "cell_type": "code",
   "execution_count": null,
   "id": "polyphonic-granny",
   "metadata": {},
   "outputs": [],
   "source": []
  },
  {
   "cell_type": "code",
   "execution_count": null,
   "id": "blank-philadelphia",
   "metadata": {},
   "outputs": [],
   "source": []
  },
  {
   "cell_type": "code",
   "execution_count": null,
   "id": "royal-hawaii",
   "metadata": {},
   "outputs": [],
   "source": []
  },
  {
   "cell_type": "code",
   "execution_count": null,
   "id": "talented-baker",
   "metadata": {},
   "outputs": [],
   "source": []
  },
  {
   "cell_type": "code",
   "execution_count": null,
   "id": "strange-berlin",
   "metadata": {},
   "outputs": [],
   "source": []
  }
 ],
 "metadata": {
  "kernelspec": {
   "display_name": "Python 3",
   "language": "python",
   "name": "python3"
  },
  "language_info": {
   "codemirror_mode": {
    "name": "ipython",
    "version": 3
   },
   "file_extension": ".py",
   "mimetype": "text/x-python",
   "name": "python",
   "nbconvert_exporter": "python",
   "pygments_lexer": "ipython3",
   "version": "3.6.8"
  }
 },
 "nbformat": 4,
 "nbformat_minor": 5
}
