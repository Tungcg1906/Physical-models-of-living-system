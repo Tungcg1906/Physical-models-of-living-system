{
 "cells": [
  {
   "cell_type": "markdown",
   "id": "after-baltimore",
   "metadata": {},
   "source": [
    "#  PHYSICAL MODELS OF LIVING SYSTEMS"
   ]
  },
  {
   "cell_type": "markdown",
   "id": "protecting-buying",
   "metadata": {},
   "source": [
    "## Homework - week 1"
   ]
  },
  {
   "cell_type": "markdown",
   "id": "starting-police",
   "metadata": {},
   "source": [
    "Author: Nguyen Xuan Tung\n",
    "\n",
    "Id: 2005491\n",
    "    "
   ]
  },
  {
   "cell_type": "markdown",
   "id": "critical-corpus",
   "metadata": {},
   "source": [
    "1) Solve the Quasi Stationary Approximation of the Consumer Resource Model with 1 species and 1 abiotic resource and compare it numerically with the full solution. Optional: find a regime of parameters where the QSA is good. Remember to check that parameters you choose and initial condition for R and N should be so that R* in the QSA is not negative.\n",
    "\n",
    "\n",
    "2) Write the Fokker Plank Equation associated to the stochastic logistic equation with environmental noise and Solve the stationary solution P*. Optional: compare analytical and numerical simulation of the SDE."
   ]
  },
  {
   "cell_type": "markdown",
   "id": "curious-group",
   "metadata": {},
   "source": [
    "-------------------------------------------------------------------------------------------------------------------------"
   ]
  },
  {
   "cell_type": "code",
   "execution_count": 12,
   "id": "reliable-optimum",
   "metadata": {},
   "outputs": [],
   "source": [
    "import numpy as np\n",
    "import matplotlib.pyplot as plt\n",
    "\n",
    "%matplotlib inline"
   ]
  },
  {
   "cell_type": "markdown",
   "id": "technological-leadership",
   "metadata": {},
   "source": [
    "-------------------------------------------------------------------------------------------"
   ]
  },
  {
   "cell_type": "markdown",
   "id": "successful-kruger",
   "metadata": {},
   "source": [
    "The differential equation is solved numerically\n",
    "\n",
    "$$\\frac{dN}{dt} = \\gamma \\mu_{max} - N ( c \\gamma k_{s}  + d)$$"
   ]
  },
  {
   "cell_type": "code",
   "execution_count": 13,
   "id": "undefined-bristol",
   "metadata": {},
   "outputs": [],
   "source": [
    "from scipy.integrate import odeint\n",
    "\n",
    "def dN_dt(N, t):\n",
    "    return g*mu-N*(c*g*k+d)\n",
    "\n",
    "g = 5 # gamma=w*b , w = 0.5 <1 and b = 10\n",
    "c = 1 # constant that depends on the species \n",
    "d = 0.01 # death rate\n",
    "t = np.linspace(0,700,700)\n",
    "N0 = 1  # the initial condition (initial population)\n",
    "N = odeint(dN_dt, N0, t)\n",
    "N = np.array(N).flatten()"
   ]
  },
  {
   "cell_type": "code",
   "execution_count": 14,
   "id": "floppy-saying",
   "metadata": {},
   "outputs": [
    {
     "data": {
      "text/plain": [
       "[<matplotlib.lines.Line2D at 0x1e0af15c4a8>]"
      ]
     },
     "execution_count": 14,
     "metadata": {},
     "output_type": "execute_result"
    },
    {
     "data": {
      "image/png": "[encoded data removed]",
      "text/plain": [
       "<Figure size 432x288 with 1 Axes>"
      ]
     },
     "metadata": {
      "needs_background": "light"
     },
     "output_type": "display_data"
    }
   ],
   "source": [
    "plt.rcParams.update({'font.size': 14})  # increase the font size\n",
    "plt.xlabel(\"t [s]\")\n",
    "plt.ylabel(\"N\")\n",
    "plt.plot(t, N)"
   ]
  },
  {
   "cell_type": "markdown",
   "id": "crazy-swift",
   "metadata": {},
   "source": [
    "-------------------------------------------------------------------------------------------------------------------"
   ]
  },
  {
   "cell_type": "markdown",
   "id": "fallen-louis",
   "metadata": {},
   "source": [
    "The numerical solution is compared with the exact one\n",
    "\n",
    "$ N(t) = \\left(N_{0} - \\frac{\\gamma \\mu_{max}}{ c \\gamma k_{s} +d} \\right) e^{-t( c \\gamma k_{s} +d)} + \\frac{\\gamma \\mu_{max}}{ c \\gamma k_{s} +d} $"
   ]
  },
  {
   "cell_type": "code",
   "execution_count": 15,
   "id": "logical-pearl",
   "metadata": {},
   "outputs": [
    {
     "data": {
      "text/plain": [
       "[<matplotlib.lines.Line2D at 0x1e0af1c1710>]"
      ]
     },
     "execution_count": 15,
     "metadata": {},
     "output_type": "execute_result"
    },
    {
     "data": {
      "image/png": "[encoded data removed]",
      "text/plain": [
       "<Figure size 432x288 with 1 Axes>"
      ]
     },
     "metadata": {
      "needs_background": "light"
     },
     "output_type": "display_data"
    }
   ],
   "source": [
    "plt.rcParams.update({'font.size': 14})\n",
    "N_exact = ( np.exp(-t*(g*c*k+d))*(N0-mu*g/(g*k*g+d)) ) + mu*g/(g*k*g+d)\n",
    "#plt.plot(t, N, t, N_exact, \"+\")\n",
    "plt.plot(t, N, color='b')\n",
    "plt.plot(t, N_exact, color= 'm')\n",
    "plt.xlabel(\"t\")\n",
    "plt.ylabel(\"N\")\n",
    "plt.legend(('numerical solution','exact solution'))\n",
    "plt.plot(t, N)"
   ]
  },
  {
   "cell_type": "code",
   "execution_count": null,
   "id": "lasting-physiology",
   "metadata": {},
   "outputs": [],
   "source": []
  },
  {
   "cell_type": "code",
   "execution_count": null,
   "id": "smoking-springer",
   "metadata": {},
   "outputs": [],
   "source": []
  }
 ],
 "metadata": {
  "kernelspec": {
   "display_name": "Python 3",
   "language": "python",
   "name": "python3"
  },
  "language_info": {
   "codemirror_mode": {
    "name": "ipython",
    "version": 3
   },
   "file_extension": ".py",
   "mimetype": "text/x-python",
   "name": "python",
   "nbconvert_exporter": "python",
   "pygments_lexer": "ipython3",
   "version": "3.6.8"
  }
 },
 "nbformat": 4,
 "nbformat_minor": 5
}
