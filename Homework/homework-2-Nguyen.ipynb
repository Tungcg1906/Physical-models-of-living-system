{
 "cells": [
  {
   "cell_type": "markdown",
   "id": "known-dakota",
   "metadata": {},
   "source": [
    "#  PHYSICAL MODELS OF LIVING SYSTEMS"
   ]
  },
  {
   "cell_type": "markdown",
   "id": "changed-combat",
   "metadata": {},
   "source": [
    "## Homework - week 2"
   ]
  },
  {
   "cell_type": "markdown",
   "id": "suspected-quality",
   "metadata": {},
   "source": [
    "Author: Nguyen Xuan Tung\n",
    "\n",
    "Id: 2005491\n",
    "    "
   ]
  },
  {
   "cell_type": "markdown",
   "id": "liable-fountain",
   "metadata": {},
   "source": [
    "----------------------------------------------------------------------------------------------------------"
   ]
  },
  {
   "cell_type": "markdown",
   "id": "technological-vocabulary",
   "metadata": {},
   "source": [
    "Infer the number of species from data of a forest sampled in 1% of the total area\n",
    "\n",
    "Perform the analysis to infer the number of species at the whole scale (p=1)\n"
   ]
  },
  {
   "cell_type": "markdown",
   "id": "dental-registration",
   "metadata": {},
   "source": [
    "-----------------------------------------------------------------------------------------------------------------------"
   ]
  },
  {
   "cell_type": "code",
   "execution_count": 1,
   "id": "distant-directory",
   "metadata": {},
   "outputs": [],
   "source": [
    "import pandas as pd\n",
    "from scipy.integrate import odeint\n",
    "from scipy.stats import nbinom\n",
    "import numpy as np\n",
    "import plotly.express as px\n",
    "import plotly.graph_objects as go\n",
    "import random\n",
    "import matplotlib.pyplot as plt\n",
    "import csv\n",
    "fig, ax = plt.subplots(1, 1)\n",
    "%matplotlib inline"
   ]
  },
  {
   "cell_type": "code",
   "execution_count": 30,
   "id": "early-ready",
   "metadata": {},
   "outputs": [
    {
     "name": "stderr",
     "output_type": "stream",
     "text": [
      "C:\\Users\\ADMIN\\lib\\site-packages\\openpyxl\\worksheet\\_reader.py:312: UserWarning:\n",
      "\n",
      "Unknown extension is not supported and will be removed\n",
      "\n"
     ]
    },
    {
     "data": {
      "text/plain": [
       "Text(0, 0.5, 'No of species collected')"
      ]
     },
     "execution_count": 30,
     "metadata": {},
     "output_type": "execute_result"
    },
    {
     "data": {
      "image/png": "[encoded data removed]",
      "text/plain": [
       "<Figure size 432x288 with 1 Axes>"
      ]
     },
     "metadata": {
      "needs_background": "light"
     },
     "output_type": "display_data"
    }
   ],
   "source": [
    "var = pd.read_excel('RSA_sampled_1percent.xlsx', engine='openpyxl')\n",
    "x = var['Species abundance'].value_counts()[:42]\n",
    "x.plot(kind='bar')\n",
    "plt.title(\" data of a forest sampled in 1% of the total area\")\n",
    "plt.xlabel(\"No of individuals collected\")\n",
    "plt.xticks(rotation=360)\n",
    "plt.margins(0.2)\n",
    "plt.ylabel(\"No of species collected\")"
   ]
  },
  {
   "cell_type": "markdown",
   "id": "pediatric-illness",
   "metadata": {},
   "source": [
    "-------------------------------------------------------------------------------------------------------------------------"
   ]
  },
  {
   "cell_type": "markdown",
   "id": "public-academy",
   "metadata": {},
   "source": [
    "   \n",
    "Negative Binomial probability mass function:\n",
    "\n",
    " $$ P(X=k) = \\binom{k+n-1}{k} p^{n} (1-p)^k $$\n",
    "\n",
    "With the first two moments (mean and variance) being:\n",
    "\n",
    "   $$ \\mu = E(X) = n (\\frac{1-p}{p}) $$\n",
    "   \n",
    "   $$ \\sigma = var(X) = n (\\frac{1-p}{p^2}) $$\n",
    "   \n",
    "From the above equations it follows that parameters p and n can be expressed in terms of the distribution moments as:\n",
    "\n",
    "   $$ p = \\frac{\\mu}{\\sigma^2}  $$\n",
    "   $$ n = \\frac{\\mu^2}{\\sigma^2-\\mu} $$ \n",
    "   \n",
    "Finally, from the last equation, the variance may be expressed in a slightly re-parameterized way:\n",
    "\n",
    "   $$ \\sigma^2 = \\mu + \\alpha \\mu^2 $$\n",
    "   $$ \\alpha = \\frac{1}{n} $$"
   ]
  },
  {
   "cell_type": "code",
   "execution_count": 31,
   "id": "moral-filter",
   "metadata": {},
   "outputs": [
    {
     "name": "stdout",
     "output_type": "stream",
     "text": [
      "Optimization terminated successfully.\n",
      "         Current function value: 5.600412\n",
      "         Iterations: 13\n",
      "         Function evaluations: 14\n",
      "         Gradient evaluations: 14\n",
      "                     NegativeBinomial Regression Results                      \n",
      "==============================================================================\n",
      "Dep. Variable:      Species abundance   No. Observations:                   42\n",
      "Model:               NegativeBinomial   Df Residuals:                       41\n",
      "Method:                           MLE   Df Model:                            0\n",
      "Date:                Wed, 26 Oct 2022   Pseudo R-squ.:              -5.157e-12\n",
      "Time:                        19:50:03   Log-Likelihood:                -235.22\n",
      "converged:                       True   LL-Null:                       -235.22\n",
      "Covariance Type:            nonrobust   LLR p-value:                       nan\n",
      "==============================================================================\n",
      "                 coef    std err          z      P>|z|      [0.025      0.975]\n",
      "------------------------------------------------------------------------------\n",
      "const          4.6158      0.175     26.406      0.000       4.273       4.958\n",
      "alpha          1.2734      0.243      5.243      0.000       0.797       1.749\n",
      "==============================================================================\n"
     ]
    }
   ],
   "source": [
    "import statsmodels.api as sm\n",
    "\n",
    "X = np.ones_like(x)\n",
    "res = sm.NegativeBinomial(x,X).fit(start_params=[1,1])\n",
    "print(res.summary())"
   ]
  },
  {
   "cell_type": "code",
   "execution_count": 37,
   "id": "brazilian-economy",
   "metadata": {},
   "outputs": [
    {
     "name": "stdout",
     "output_type": "stream",
     "text": [
      "n = 0.7852794218561466\n",
      "p = 0.0077096218069526105\n"
     ]
    },
    {
     "data": {
      "text/plain": [
       "Text(0, 0.5, 'No of species collected')"
      ]
     },
     "execution_count": 37,
     "metadata": {},
     "output_type": "execute_result"
    },
    {
     "data": {
      "image/png": "[encoded data removed]",
      "text/plain": [
       "<Figure size 432x288 with 1 Axes>"
      ]
     },
     "metadata": {
      "needs_background": "light"
     },
     "output_type": "display_data"
    }
   ],
   "source": [
    "from scipy.stats import nbinom\n",
    "import matplotlib.pyplot as plt\n",
    "from scipy import stats\n",
    "from scipy.stats import norm\n",
    "\n",
    "x = var['Species abundance'].value_counts()[:42]\n",
    "\n",
    "mu = np.exp(res.params[0])\n",
    "p = 1/(1+np.exp(res.params[0]) * res.params[1])\n",
    "n = np.exp(res.params[0])*p/(1-p)\n",
    "nbinom_pd = nbinom.pmf(x, n, p)\n",
    "print(\"n =\",n)\n",
    "print(\"p =\",p)\n",
    "plt.plot(x, nbinom_pd, '-', ms=8, label='negative binomial')\n",
    "\n",
    "plt.vlines(x, 0, nbinom_pd, colors='y', lw=5, alpha=0.5)\n",
    "plt.legend()\n",
    "plt.title(\" data of a forest sampled in 1% of the total area\")\n",
    "plt.xlabel(\"No of individuals collected\")\n",
    "plt.ylabel(\"No of species collected\")"
   ]
  },
  {
   "cell_type": "code",
   "execution_count": null,
   "id": "upper-dividend",
   "metadata": {},
   "outputs": [],
   "source": []
  }
 ],
 "metadata": {
  "kernelspec": {
   "display_name": "Python 3",
   "language": "python",
   "name": "python3"
  },
  "language_info": {
   "codemirror_mode": {
    "name": "ipython",
    "version": 3
   },
   "file_extension": ".py",
   "mimetype": "text/x-python",
   "name": "python",
   "nbconvert_exporter": "python",
   "pygments_lexer": "ipython3",
   "version": "3.6.8"
  }
 },
 "nbformat": 4,
 "nbformat_minor": 5
}
